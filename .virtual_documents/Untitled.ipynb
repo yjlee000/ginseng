import pandas as pd
import matplotlib.pyplot as plt
from matplotlib.patches import Patch

# CSV 파일 읽기
file_path = 'aivle_school_big_project_2025-02-06_11.36am.csv'  # 파일 경로 설정
data = pd.read_csv(file_path)

# 날짜 변환 및 월 기준 그룹화
data['시작일'] = pd.to_datetime(data['Start Date'], dayfirst=True)
data['종료일'] = pd.to_datetime(data['End Date'], dayfirst=True)
data['기간(개월)'] = ((data['종료일'] - data['시작일']).dt.days // 30) + 1

# 색상 매핑
category_colors = {
    "자원작성": "steelblue",
    "스토리라인작성": "deepskyblue",
    "시각화": "orange",
    "강조 표현": "royalblue",
    "모션": "mediumseagreen",
    "리허설": "lightgrey",
}

fig, ax = plt.subplots(figsize=(14, 8))

# 작업별 막대 그래프 생성
for i, row in data.iterrows():
    ax.barh(
        # row['세부내역'], 
        row['기간(개월)'], 
        left=(row['시작일'] - data['시작일'].min()).days // 30 + 1, 
        color=category_colors.get(row['Issue color'], 'grey'),
        edgecolor='black', 
        width=30
    )

# X축 수정: 1개월 단위로 레이블 설정
max_months = ((data['종료일'].max() - data['시작일'].min()).days // 30) + 2
ax.set_xticks(range(1, max_months))
ax.set_xticklabels([f"{i}개월" for i in range(1, max_months)])

# 세부 스타일링
ax.invert_yaxis()  # 작업 항목을 위에서 아래로 정렬
plt.xticks(fontsize=10)
plt.yticks(fontsize=10)
ax.set_title("프로젝트 진행 일정 (월 단위)", fontsize=16)
ax.set_xlabel("기간 (개월)", fontsize=12)
ax.set_ylabel("작업 항목", fontsize=12)

# 범례 추가
legend_elements = [
    Patch(facecolor=color, edgecolor='black', label=category) 
    for category, color in category_colors.items()
]
ax.legend(handles=legend_elements, title="구분", loc='upper right')

# 그래프 보여주기
plt.tight_layout()
plt.show()




